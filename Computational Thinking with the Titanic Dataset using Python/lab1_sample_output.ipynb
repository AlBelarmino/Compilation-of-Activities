{
  "nbformat": 4,
  "nbformat_minor": 0,
  "metadata": {
    "colab": {
      "provenance": []
    },
    "kernelspec": {
      "name": "python3",
      "display_name": "Python 3"
    },
    "language_info": {
      "name": "python"
    }
  },
  "cells": [
    {
      "cell_type": "markdown",
      "source": [
        "# Laboratory Activity Sample Output"
      ],
      "metadata": {
        "id": "c20qVSM3K7fO"
      }
    },
    {
      "cell_type": "code",
      "execution_count": null,
      "metadata": {
        "id": "4o_TuZo5EbDI"
      },
      "outputs": [],
      "source": [
        "import pandas as pd\n",
        "\n",
        "pd.read_csv()"
      ]
    },
    {
      "cell_type": "markdown",
      "source": [
        "## This is where you will put your answers in Question 1"
      ],
      "metadata": {
        "id": "uDrtgBxILCtV"
      }
    },
    {
      "cell_type": "code",
      "source": [
        "# You can put here the codes that are in the lab guide so that you can derive the\n",
        "# necessary insights needed to answer the questions."
      ],
      "metadata": {
        "id": "2nKjNjH6LNW9"
      },
      "execution_count": null,
      "outputs": []
    },
    {
      "cell_type": "markdown",
      "source": [
        "## This is where you will put your answers in Question 2"
      ],
      "metadata": {
        "id": "l8jsHO8LLIxW"
      }
    },
    {
      "cell_type": "code",
      "source": [
        "# You can put here the codes that are in the lab guide so that you can derive the\n",
        "# necessary insights needed to answer the questions."
      ],
      "metadata": {
        "id": "hj_RgVktLNtS"
      },
      "execution_count": null,
      "outputs": []
    },
    {
      "cell_type": "markdown",
      "source": [
        "## This is where you will put your answers in Question 3"
      ],
      "metadata": {
        "id": "5grrerYXLKKr"
      }
    },
    {
      "cell_type": "code",
      "source": [
        "# You can put here the codes that are in the lab guide so that you can derive the\n",
        "# necessary insights needed to answer the questions."
      ],
      "metadata": {
        "id": "Eil0KWXQLOA8"
      },
      "execution_count": null,
      "outputs": []
    },
    {
      "cell_type": "markdown",
      "source": [
        "## This is where you will put your answers in Question 4"
      ],
      "metadata": {
        "id": "Hoavb97cLLKX"
      }
    },
    {
      "cell_type": "code",
      "source": [
        "# You can put here the codes that are in the lab guide so that you can derive the\n",
        "# necessary insights needed to answer the questions."
      ],
      "metadata": {
        "id": "emHQDkAmLOcG"
      },
      "execution_count": null,
      "outputs": []
    }
  ]
}